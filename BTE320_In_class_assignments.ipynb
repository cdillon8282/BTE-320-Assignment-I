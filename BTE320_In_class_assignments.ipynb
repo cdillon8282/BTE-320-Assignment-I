{
  "nbformat": 4,
  "nbformat_minor": 0,
  "metadata": {
    "colab": {
      "provenance": [],
      "include_colab_link": true
    },
    "kernelspec": {
      "name": "python3",
      "display_name": "Python 3"
    },
    "language_info": {
      "name": "python"
    }
  },
  "cells": [
    {
      "cell_type": "markdown",
      "metadata": {
        "id": "view-in-github",
        "colab_type": "text"
      },
      "source": [
        "<a href=\"https://colab.research.google.com/github/cdillon8282/BTE-320-Assignment-I/blob/main/BTE320_In_class_assignments.ipynb\" target=\"_parent\"><img src=\"https://colab.research.google.com/assets/colab-badge.svg\" alt=\"Open In Colab\"/></a>"
      ]
    },
    {
      "cell_type": "code",
      "execution_count": null,
      "metadata": {
        "colab": {
          "base_uri": "https://localhost:8080/"
        },
        "id": "C4kA0w46kJSs",
        "outputId": "691619f8-0b0d-4b30-a1b6-da8ffd02f165"
      },
      "outputs": [
        {
          "output_type": "stream",
          "name": "stdout",
          "text": [
            "244.92000000000002\n"
          ]
        }
      ],
      "source": [
        "# Calculate surface area cylinder\n",
        "pi=3.14 # pi\n",
        "r=3 # radius\n",
        "h=10 # height\n",
        "CylinderSurfaceArea=(2*pi*r**2)+(2*pi*r*h) # Area\n",
        "print(CylinderSurfaceArea) # display result"
      ]
    },
    {
      "cell_type": "code",
      "source": [
        "\n",
        "Play=input(f'Would you like to play Rock, Paper, Scissors? ')\n",
        "while Play=='Yes':\n",
        "  print('Rock... Paper... Scissors... Shoot!')\n",
        "  P1=input(f'Select Player 1 Rock, Paper, or Scissors: ')\n",
        "  P2= random.choice(['Rock', 'Paper', 'Scissors'])\n",
        "  if P1 == P2:\n",
        "    print('Draw')\n",
        "  elif P1 == 'Rock' and P2 == 'Scissors':\n",
        "    print('PLayer 1 Wins')\n",
        "  elif P1 == 'Rock' and P2 == 'Paper':\n",
        "    print('Computer Wins')\n",
        "  elif P1 == 'Paper' and P2 == 'Rock':\n",
        "    print('Player 1 Wins')\n",
        "  elif P1 == 'Paper' and P2 == \"Scissors\":\n",
        "    print('Computer Wins')\n",
        "  elif P1 == 'Scissors' and P2 == 'Rock':\n",
        "    print('Computer Wins')\n",
        "  elif P1 == 'Scissors' and P2 == 'Paper':\n",
        "    print('Player 1 Wins')\n",
        "  else:\n",
        "    print('__Error__')\n",
        "\n",
        "  Play = input('Do you want to play again? ')\n",
        "print('Have a Nice Day')"
      ],
      "metadata": {
        "colab": {
          "base_uri": "https://localhost:8080/"
        },
        "outputId": "02fc35da-6fd8-4484-dcd4-82a653216f27",
        "id": "CgTur7zkymg1"
      },
      "execution_count": null,
      "outputs": [
        {
          "output_type": "stream",
          "name": "stdout",
          "text": [
            "Would you like to play Rock, Paper, Scissors? Yes\n",
            "Rock... Paper... Scissors... Shoot!\n",
            "Select Player 1 Rock, Paper, or Scissors: Rock\n",
            "Computer Wins\n",
            "Do you want to play again? Yes\n",
            "Rock... Paper... Scissors... Shoot!\n",
            "Select Player 1 Rock, Paper, or Scissors: Paper\n",
            "Player 1 Wins\n",
            "Do you want to play again? no\n",
            "Have a Nice Day\n"
          ]
        }
      ]
    },
    {
      "cell_type": "code",
      "source": [
        "N1 = float(input(f'Enter a Number: '))\n",
        "Operation = input(f'Desired Operation(*,/,-,+,^): ')\n",
        "N2 = float(input(f'Enter a Number: '))\n",
        "if Operation == '+':\n",
        "  Calc = (N1 + N2)\n",
        "  print(f'Calculated: {Calc}')\n",
        "elif Operation == '-':\n",
        "    Calc = (N1 - N2)\n",
        "    print(f\"Calculated: {Calc}\")\n",
        "elif Operation == '*':\n",
        "  Calc = (N1 * N2)\n",
        "  print(f\"Calculated: {Calc}\")\n",
        "elif Operation == '/':\n",
        "  Calc = (N1 / N2)\n",
        "  print(f'Calculated: {Calc}')\n",
        "elif Operation == '^':\n",
        "  Calc = (N1 ** N2)\n",
        "  print(f'Calculated: {Calc}')\n",
        "else:\n",
        "  print('Error')"
      ],
      "metadata": {
        "id": "aOIHsBTE0-sR",
        "colab": {
          "base_uri": "https://localhost:8080/"
        },
        "outputId": "b8a2eafe-0b04-433b-f6f2-9744752ae903"
      },
      "execution_count": null,
      "outputs": [
        {
          "output_type": "stream",
          "name": "stdout",
          "text": [
            "Enter a Number: 5.2\n",
            "Desired Operation(*,/,-,+,^): +\n",
            "Enter a Number: 3.4\n",
            "Calculated: 8.6\n"
          ]
        }
      ]
    },
    {
      "cell_type": "code",
      "source": [
        "ticketcost=10\n",
        "fixedattendees=20\n",
        "fixedcost=200\n",
        "print('Ad$ Profit')\n",
        "for i in range(0,201,25):\n",
        "  attendees=2*round((i**(1/2)))+fixedattendees\n",
        "  profit = ticketcost*(attendees)-i-fixedcost\n",
        "  print(i ,' ', profit)"
      ],
      "metadata": {
        "colab": {
          "base_uri": "https://localhost:8080/"
        },
        "id": "AKmLktnLEzpr",
        "outputId": "0f28c2f6-d4b9-4c1c-8148-8a7285649c34"
      },
      "execution_count": null,
      "outputs": [
        {
          "output_type": "stream",
          "name": "stdout",
          "text": [
            "Ad$ Profit\n",
            "0   0\n",
            "25   75\n",
            "50   90\n",
            "75   105\n",
            "100   100\n",
            "125   95\n",
            "150   90\n",
            "175   85\n",
            "200   80\n"
          ]
        }
      ]
    },
    {
      "cell_type": "code",
      "source": [
        "i = 0\n",
        "\n",
        "while True:\n",
        "  i=i+1\n",
        "  if i == 10:\n",
        "    break\n",
        "  print(i, end = ' ')\n",
        "\n",
        "print('Done.')"
      ],
      "metadata": {
        "colab": {
          "base_uri": "https://localhost:8080/"
        },
        "id": "Ze2vSqq3Kk2v",
        "outputId": "98f403c6-9533-47cc-9faf-d760dbd51259"
      },
      "execution_count": null,
      "outputs": [
        {
          "output_type": "stream",
          "name": "stdout",
          "text": [
            "1 2 3 4 5 6 7 8 9 Done.\n"
          ]
        }
      ]
    },
    {
      "cell_type": "code",
      "source": [
        "item= int(input('Please Input an Integer: '))\n",
        "l = []\n",
        "while item != 0:\n",
        "  l.append(item)\n",
        "  item=int(input('Please Input an Integer:'))\n",
        "  if item == 0:\n",
        "    print(l)\n",
        "\n"
      ],
      "metadata": {
        "colab": {
          "base_uri": "https://localhost:8080/"
        },
        "id": "rNo5h9rkIuwF",
        "outputId": "d8c40e97-1b77-4195-dcbd-3f4baf45e100"
      },
      "execution_count": null,
      "outputs": [
        {
          "output_type": "stream",
          "name": "stdout",
          "text": [
            "Please Input an Integer: 1\n",
            "Please Input an Integer:2\n",
            "Please Input an Integer:3\n",
            "Please Input an Integer:-100\n",
            "Please Input an Integer:0\n",
            "[1, 2, 3, -100]\n"
          ]
        }
      ]
    },
    {
      "cell_type": "code",
      "source": [
        "l1=[1,2,3,4]\n",
        "l2=[1,2,5,6]\n",
        "\n",
        "for item in l1[:]:\n",
        "  if item in l2:\n",
        "    l1.remove(item)\n",
        "\n",
        "print(l1)"
      ],
      "metadata": {
        "colab": {
          "base_uri": "https://localhost:8080/"
        },
        "id": "blBIvMS_NXO6",
        "outputId": "56a23543-61c0-418f-848e-729c86955938"
      },
      "execution_count": null,
      "outputs": [
        {
          "output_type": "stream",
          "name": "stdout",
          "text": [
            "[3, 4]\n"
          ]
        }
      ]
    },
    {
      "cell_type": "code",
      "source": [
        "months={}\n",
        "\n",
        "names = ['Jan','Feb','Mar','Apr','May','Jun','Jul','Aug','Sep','Oct','Nov','Dec']\n",
        "numbers = [1,2,3,4,5,6,7,8,9,10,11,12]\n",
        "\n",
        "for idx in range(len(numbers)):\n",
        "  months[numbers[idx]]=names[idx]\n",
        "months\n",
        "\n"
      ],
      "metadata": {
        "id": "ag7ncNrq47d9",
        "colab": {
          "base_uri": "https://localhost:8080/"
        },
        "outputId": "62bacb80-8e27-4526-b93a-ce227cc230c5"
      },
      "execution_count": null,
      "outputs": [
        {
          "output_type": "execute_result",
          "data": {
            "text/plain": [
              "{1: 'Jan',\n",
              " 2: 'Feb',\n",
              " 3: 'Mar',\n",
              " 4: 'Apr',\n",
              " 5: 'May',\n",
              " 6: 'Jun',\n",
              " 7: 'Jul',\n",
              " 8: 'Aug',\n",
              " 9: 'Sep',\n",
              " 10: 'Oct',\n",
              " 11: 'Nov',\n",
              " 12: 'Dec'}"
            ]
          },
          "metadata": {},
          "execution_count": 21
        }
      ]
    },
    {
      "cell_type": "code",
      "source": [
        "total_cost = float(input('What is the cost of your dream home?: '))\n",
        "annual_salary = float(input('What is your annual salary?: '))\n",
        "portion_saved = float(input('What percentage of your salary would you like to save? (In decimal Form): '))\n",
        "portion_down_payment = 0.25\n",
        "down_payment = total_cost*portion_down_payment\n",
        "r = 0.04\n",
        "monthly_r = r/12\n",
        "monthly_salary = annual_salary/12\n",
        "monthly_savings = monthly_salary*portion_saved\n",
        "n=0\n",
        "current_savings = 0\n",
        "\n",
        "n=1\n",
        "while current_savings < down_payment:\n",
        "  n=n+1\n",
        "  current_savings = monthly_savings*((((((1+monthly_r)**n)-1)/monthly_r))*(1+monthly_r))\n",
        "print(f'Number of months: {n}')"
      ],
      "metadata": {
        "id": "FIk4Neohpoks",
        "colab": {
          "base_uri": "https://localhost:8080/"
        },
        "outputId": "e4e54389-4274-4040-db6b-9f37136c0a0b"
      },
      "execution_count": null,
      "outputs": [
        {
          "output_type": "stream",
          "name": "stdout",
          "text": [
            "What is the cost of your dream home?: 100\n",
            "What is your annual salary?: 10\n",
            "What percentage of your salary would you like to save? (In decimal Form): .1\n",
            "Number of months: 208\n"
          ]
        }
      ]
    },
    {
      "cell_type": "code",
      "source": [
        "total_cost = float(input('What is the cost of your dream home?: '))\n",
        "annual_salary = float(input('What is your annual salary?: '))\n",
        "portion_saved = float(input('What percentage of your salary would you like to save? (In decimal Form): '))\n",
        "semi_annual_raise = float(input('What is your semi-annual raise? (In decimal Form): '))\n",
        "portion_down_payment = 0.25\n",
        "down_payment = total_cost*portion_down_payment\n",
        "r = 0.04\n",
        "monthly_r = r/12\n",
        "monthly_salary = annual_salary/12\n",
        "monthly_savings = monthly_salary*portion_saved\n",
        "n=0\n",
        "current_savings = 0\n",
        "\n",
        "n=1\n",
        "while current_savings < down_payment:\n",
        "  n=n+1\n",
        "  if n%6==0:\n",
        "    annual_salary = annual_salary*(1+semi_annual_raise)\n",
        "    monthly_salary = annual_salary/12\n",
        "    monthly_savings = monthly_salary*portion_saved\n",
        "  current_savings = monthly_savings*((((((1+monthly_r)**n)-1)/monthly_r))*(1+monthly_r))\n",
        "print(f'Number of months: {n}')"
      ],
      "metadata": {
        "colab": {
          "base_uri": "https://localhost:8080/"
        },
        "outputId": "4f77cadc-60cc-4434-c809-6204573cbd31",
        "id": "u8y6YY-uVfLL"
      },
      "execution_count": null,
      "outputs": [
        {
          "output_type": "stream",
          "name": "stdout",
          "text": [
            "What is the cost of your dream home?: 100\n",
            "What is your annual salary?: 10\n",
            "What percentage of your salary would you like to save? (In decimal Form): .1\n",
            "What is your semi-annual raise? (In decimal Form): .03\n",
            "Number of months: 129\n"
          ]
        }
      ]
    },
    {
      "cell_type": "code",
      "source": [
        "def range_check(num, low, high,):\n",
        "      if num >= low and num <= high:\n",
        "        return 'In Range'\n",
        "      else:\n",
        "        return 'Out of Range'\n",
        "x=float(input('Give any number: '))\n",
        "y=float(input('Give the low end of your range: '))\n",
        "z=float(input('Give the high end of your range: '))\n",
        "print(range_check(x,y,z))"
      ],
      "metadata": {
        "id": "10wiYslSp0Ru",
        "colab": {
          "base_uri": "https://localhost:8080/"
        },
        "outputId": "46bdf070-bc96-4dcb-d05b-aeae998bc880"
      },
      "execution_count": null,
      "outputs": [
        {
          "output_type": "stream",
          "name": "stdout",
          "text": [
            "Give any number: 10\n",
            "Give the low end of your range: 0\n",
            "Give the high end of your range: 10\n",
            "In Range\n"
          ]
        }
      ]
    },
    {
      "cell_type": "code",
      "source": [
        "def calcFee(hours):\n",
        "  charge = 5+(2.5*hour)\n",
        "  return charge\n",
        "\n",
        "hour = float(input('How many hours will you be parked?: '))\n",
        "print('Parking fee ($): ', calcFee(hour))"
      ],
      "metadata": {
        "colab": {
          "base_uri": "https://localhost:8080/"
        },
        "id": "J_qr-ROX9cwV",
        "outputId": "78ccb50f-a3bf-46ca-f505-c6d85f400022"
      },
      "execution_count": null,
      "outputs": [
        {
          "output_type": "stream",
          "name": "stdout",
          "text": [
            "How many hours will you be parked?: 4.5555\n",
            "Parking fee ($):  16.38875\n"
          ]
        }
      ]
    },
    {
      "cell_type": "code",
      "source": [
        "def calcFee(hours,decimals=2):\n",
        "  fee = 5 + hour*2.5\n",
        "  fee = round(fee,decimals)\n",
        "  return fee\n",
        "def displayFee(fee):\n",
        "  print('Parking fee ($): ', fee)\n",
        "\n",
        "if __name__ == '__main__':\n",
        "  hour = float(input('How many hours will you be parked?: '))\n",
        "  displayFee(calcFee(hour))"
      ],
      "metadata": {
        "colab": {
          "base_uri": "https://localhost:8080/"
        },
        "outputId": "b5887abe-0a39-4743-aa3b-4b84e45656d7",
        "id": "3ssfjuQ3CETl"
      },
      "execution_count": null,
      "outputs": [
        {
          "output_type": "stream",
          "name": "stdout",
          "text": [
            "How many hours will you be parked?: 4\n",
            "Parking fee ($):  15.0\n"
          ]
        }
      ]
    },
    {
      "cell_type": "code",
      "source": [
        "def reverse_string(s):\n",
        "    if len(s) <= 1:\n",
        "        return s\n",
        "    else:\n",
        "      return reverse_string(s[1:]) + s[0]\n",
        "\n",
        "input_string = input('Input a String: ')\n",
        "reversed_string = reverse_string(input_string)\n",
        "print(\"Reversed String:\", reversed_string)\n"
      ],
      "metadata": {
        "colab": {
          "base_uri": "https://localhost:8080/"
        },
        "id": "-oAcSCVTHX-o",
        "outputId": "e0290085-b5cf-42f8-de32-4d40ab196b92"
      },
      "execution_count": null,
      "outputs": [
        {
          "output_type": "stream",
          "name": "stdout",
          "text": [
            "Input a String: PooP\n",
            "Reversed String: PooP\n"
          ]
        }
      ]
    },
    {
      "cell_type": "code",
      "source": [
        "def wAVG(L,w):\n",
        "  try:\n",
        "    return sum(L[i]*w[i] for i in range(len(L)))/sum(w)\n",
        "  except ZeroDivisionError:\n",
        "    print('Divide by Zero Error')\n",
        "  except TypeError:\n",
        "    print('Type Error')\n",
        "  else:\n",
        "    return float('nan')\n",
        "wAVG([1,2,3,4],[.2,.3,.4,.5])\n"
      ],
      "metadata": {
        "colab": {
          "base_uri": "https://localhost:8080/"
        },
        "id": "UD7CaFzff6ZH",
        "outputId": "4a7246d3-b6e6-4954-fbaf-efc1b03d0734"
      },
      "execution_count": null,
      "outputs": [
        {
          "output_type": "execute_result",
          "data": {
            "text/plain": [
              "2.857142857142857"
            ]
          },
          "metadata": {},
          "execution_count": 4
        }
      ]
    },
    {
      "cell_type": "code",
      "source": [
        "def wAVG(L,w):\n",
        "  try:\n",
        "    res = []\n",
        "    for i in range(len(L)):\n",
        "      res.append(L[i]*w[i])\n",
        "    return sum(res)/sum(w)\n",
        "  except ZeroDivisionError:\n",
        "    return []\n",
        "  except TypeError:\n",
        "    return []\n",
        "  else:\n",
        "    return float('nan')\n",
        "\n",
        "wAVG([1,2,3,4],[.2,.3,.4,.5])"
      ],
      "metadata": {
        "colab": {
          "base_uri": "https://localhost:8080/"
        },
        "id": "tlts3gNchx2G",
        "outputId": "95eb3edd-c011-421d-cdc3-6b28f559c896"
      },
      "execution_count": null,
      "outputs": [
        {
          "output_type": "execute_result",
          "data": {
            "text/plain": [
              "2.857142857142857"
            ]
          },
          "metadata": {},
          "execution_count": 6
        }
      ]
    }
  ]
}