{
  "nbformat": 4,
  "nbformat_minor": 0,
  "metadata": {
    "colab": {
      "provenance": [],
      "authorship_tag": "ABX9TyMQypmaudDfnOUDs7hH7Oyq",
      "include_colab_link": true
    },
    "kernelspec": {
      "name": "python3",
      "display_name": "Python 3"
    },
    "language_info": {
      "name": "python"
    }
  },
  "cells": [
    {
      "cell_type": "markdown",
      "metadata": {
        "id": "view-in-github",
        "colab_type": "text"
      },
      "source": [
        "<a href=\"https://colab.research.google.com/github/cdillon8282/BTE-320-Assignment-I/blob/main/BTE320_In_class_assignments.ipynb\" target=\"_parent\"><img src=\"https://colab.research.google.com/assets/colab-badge.svg\" alt=\"Open In Colab\"/></a>"
      ]
    },
    {
      "cell_type": "code",
      "execution_count": null,
      "metadata": {
        "colab": {
          "base_uri": "https://localhost:8080/"
        },
        "id": "C4kA0w46kJSs",
        "outputId": "691619f8-0b0d-4b30-a1b6-da8ffd02f165"
      },
      "outputs": [
        {
          "output_type": "stream",
          "name": "stdout",
          "text": [
            "244.92000000000002\n"
          ]
        }
      ],
      "source": [
        "# Calculate surface area cylinder\n",
        "pi=3.14 # pi\n",
        "r=3 # radius\n",
        "h=10 # height\n",
        "CylinderSurfaceArea=(2*pi*r**2)+(2*pi*r*h) # Area\n",
        "print(CylinderSurfaceArea) # display result"
      ]
    },
    {
      "cell_type": "code",
      "source": [
        "print('Rock... Paper... Scissors... Shoot!')\n",
        "P1=input(f'Select Player 1 Rock, Paper, or Scissors: ')\n",
        "P2=input(f'Select Player 2 Rock, Paper, or Scissors: ')\n",
        "if P1 == P2:\n",
        "  print('Draw')\n",
        "elif P1 == 'Rock' and P2 == 'Scissors':\n",
        "  print('PLayer 1 Wins')\n",
        "elif P1 == 'Rock' and P2 == 'Paper':\n",
        "  print('Player 2 Wins')\n",
        "elif P1 == 'Paper' and P2 == 'Rock':\n",
        "  print('Player 1 Wins')\n",
        "elif P1 == 'Paper' and P2 == \"Scissors\":\n",
        "  print('Player 2 Wins')\n",
        "elif P1 == 'Scissors' and P2 == 'Rock':\n",
        "  print('Player 2 Wins')\n",
        "elif P1 == 'Scissors' and P2 == 'Paper':\n",
        "  print('Player 1 Wins')\n",
        "else:\n",
        "  print('__Error__')\n",
        "\n"
      ],
      "metadata": {
        "colab": {
          "base_uri": "https://localhost:8080/"
        },
        "id": "NSzAOue6mwU3",
        "outputId": "857bc321-62c4-4da0-aeea-3db9b268efd2"
      },
      "execution_count": null,
      "outputs": [
        {
          "output_type": "stream",
          "name": "stdout",
          "text": [
            "Rock... Paper... Scissors... Shoot!\n",
            "Select Player 1 Rock, Paper, or Scissors: Chris\n",
            "Select Player 2 Rock, Paper, or Scissors: Zach\n",
            "Chris Wins, GOAT\n"
          ]
        }
      ]
    },
    {
      "cell_type": "code",
      "source": [
        "N1 = float(input(f'Enter a Number: '))\n",
        "Operation = input(f'Desired Operation(*,/,-,+,^): ')\n",
        "N2 = float(input(f'Enter a Number: '))\n",
        "if Operation == '+':\n",
        "  Calc = (N1 + N2)\n",
        "  print(f'Calculated: {Calc}')\n",
        "elif Operation == '-':\n",
        "    Calc = (N1 - N2)\n",
        "    print(f\"Calculated: {Calc}\")\n",
        "elif Operation == '*':\n",
        "  Calc = (N1 * N2)\n",
        "  print(f\"Calculated: {Calc}\")\n",
        "elif Operation == '/':\n",
        "  Calc = (N1 / N2)\n",
        "  print(f'Calculated: {Calc}')\n",
        "elif Operation == '^':\n",
        "  Calc = (N1 ** N2)\n",
        "  print(f'Calculated: {Calc}')\n",
        "else:\n",
        "  print('Error')"
      ],
      "metadata": {
        "id": "aOIHsBTE0-sR",
        "colab": {
          "base_uri": "https://localhost:8080/"
        },
        "outputId": "b8a2eafe-0b04-433b-f6f2-9744752ae903"
      },
      "execution_count": 18,
      "outputs": [
        {
          "output_type": "stream",
          "name": "stdout",
          "text": [
            "Enter a Number: 5.2\n",
            "Desired Operation(*,/,-,+,^): +\n",
            "Enter a Number: 3.4\n",
            "Calculated: 8.6\n"
          ]
        }
      ]
    }
  ]
}