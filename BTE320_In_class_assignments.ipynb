{
  "nbformat": 4,
  "nbformat_minor": 0,
  "metadata": {
    "colab": {
      "provenance": [],
      "include_colab_link": true
    },
    "kernelspec": {
      "name": "python3",
      "display_name": "Python 3"
    },
    "language_info": {
      "name": "python"
    }
  },
  "cells": [
    {
      "cell_type": "markdown",
      "metadata": {
        "id": "view-in-github",
        "colab_type": "text"
      },
      "source": [
        "<a href=\"https://colab.research.google.com/github/cdillon8282/BTE-320-Assignment-I/blob/main/BTE320_In_class_assignments.ipynb\" target=\"_parent\"><img src=\"https://colab.research.google.com/assets/colab-badge.svg\" alt=\"Open In Colab\"/></a>"
      ]
    },
    {
      "cell_type": "markdown",
      "source": [
        "Shape Area Calculator"
      ],
      "metadata": {
        "id": "cJPFbsMrh-Uu"
      }
    },
    {
      "cell_type": "code",
      "execution_count": 1,
      "metadata": {
        "colab": {
          "base_uri": "https://localhost:8080/"
        },
        "id": "C4kA0w46kJSs",
        "outputId": "2ea8b73c-a5b9-4f56-fe2d-305051dfa175"
      },
      "outputs": [
        {
          "output_type": "stream",
          "name": "stdout",
          "text": [
            "244.92000000000002\n"
          ]
        }
      ],
      "source": [
        "# Calculate surface area cylinder\n",
        "pi=3.14 # pi\n",
        "r=3 # radius\n",
        "h=10 # height\n",
        "CylinderSurfaceArea=(2*pi*r**2)+(2*pi*r*h) # Area\n",
        "print(CylinderSurfaceArea) # display result"
      ]
    },
    {
      "cell_type": "markdown",
      "source": [
        "While loop Rock, Paper, Scissors"
      ],
      "metadata": {
        "id": "JtMEhQsUiCIb"
      }
    },
    {
      "cell_type": "code",
      "source": [
        "Play=input(f'Would you like to play Rock, Paper, Scissors? ')\n",
        "while Play=='Yes':\n",
        "  print('Rock... Paper... Scissors... Shoot!')\n",
        "  P1=input(f'Select Player 1 Rock, Paper, or Scissors: ')\n",
        "  P2= random.choice(['Rock', 'Paper', 'Scissors'])\n",
        "  if P1 == P2:\n",
        "    print('Draw')\n",
        "  elif P1 == 'Rock' and P2 == 'Scissors':\n",
        "    print('PLayer 1 Wins')\n",
        "  elif P1 == 'Rock' and P2 == 'Paper':\n",
        "    print('Computer Wins')\n",
        "  elif P1 == 'Paper' and P2 == 'Rock':\n",
        "    print('Player 1 Wins')\n",
        "  elif P1 == 'Paper' and P2 == \"Scissors\":\n",
        "    print('Computer Wins')\n",
        "  elif P1 == 'Scissors' and P2 == 'Rock':\n",
        "    print('Computer Wins')\n",
        "  elif P1 == 'Scissors' and P2 == 'Paper':\n",
        "    print('Player 1 Wins')\n",
        "  else:\n",
        "    print('__Error__')\n",
        "\n",
        "  Play = input('Do you want to play again? ')\n",
        "print('Have a Nice Day')"
      ],
      "metadata": {
        "colab": {
          "base_uri": "https://localhost:8080/"
        },
        "outputId": "60852923-7729-4296-e213-4831c10c2a48",
        "id": "CgTur7zkymg1"
      },
      "execution_count": null,
      "outputs": [
        {
          "output_type": "stream",
          "name": "stdout",
          "text": [
            "Would you like to play Rock, Paper, Scissors? no\n",
            "Have a Nice Day\n"
          ]
        }
      ]
    },
    {
      "cell_type": "markdown",
      "source": [
        "Numerical calculator"
      ],
      "metadata": {
        "id": "-naQippXiHRu"
      }
    },
    {
      "cell_type": "code",
      "source": [
        "N1 = float(input(f'Enter a Number: '))\n",
        "Operation = input(f'Desired Operation(*,/,-,+,^): ')\n",
        "N2 = float(input(f'Enter a Number: '))\n",
        "if Operation == '+':\n",
        "  Calc = (N1 + N2)\n",
        "  print(f'Calculated: {Calc}')\n",
        "elif Operation == '-':\n",
        "    Calc = (N1 - N2)\n",
        "    print(f\"Calculated: {Calc}\")\n",
        "elif Operation == '*':\n",
        "  Calc = (N1 * N2)\n",
        "  print(f\"Calculated: {Calc}\")\n",
        "elif Operation == '/':\n",
        "  Calc = (N1 / N2)\n",
        "  print(f'Calculated: {Calc}')\n",
        "elif Operation == '^':\n",
        "  Calc = (N1 ** N2)\n",
        "  print(f'Calculated: {Calc}')\n",
        "else:\n",
        "  print('Error')"
      ],
      "metadata": {
        "id": "aOIHsBTE0-sR",
        "colab": {
          "base_uri": "https://localhost:8080/"
        },
        "outputId": "b8a2eafe-0b04-433b-f6f2-9744752ae903"
      },
      "execution_count": null,
      "outputs": [
        {
          "output_type": "stream",
          "name": "stdout",
          "text": [
            "Enter a Number: 5.2\n",
            "Desired Operation(*,/,-,+,^): +\n",
            "Enter a Number: 3.4\n",
            "Calculated: 8.6\n"
          ]
        }
      ]
    },
    {
      "cell_type": "markdown",
      "source": [
        "Parking Garage"
      ],
      "metadata": {
        "id": "666GuQvO8W_Q"
      }
    },
    {
      "cell_type": "code",
      "source": [
        "for i in range(1,9,1):\n",
        "  if i <= 2:\n",
        "    cost = 10\n",
        "  elif i<= 5:\n",
        "    cost = 10+(i-2)*2.5\n",
        "  else:\n",
        "    cost = 20\n",
        "  print(i,' ',cost)"
      ],
      "metadata": {
        "colab": {
          "base_uri": "https://localhost:8080/"
        },
        "id": "XCk_YJop8ZMA",
        "outputId": "e57ae1f7-d0df-4396-f1b9-085265f672d4"
      },
      "execution_count": 6,
      "outputs": [
        {
          "output_type": "stream",
          "name": "stdout",
          "text": [
            "1   10\n",
            "2   10\n",
            "3   12.5\n",
            "4   15.0\n",
            "5   17.5\n",
            "6   20\n",
            "7   20\n",
            "8   20\n"
          ]
        }
      ]
    },
    {
      "cell_type": "markdown",
      "source": [
        "Movie Theater"
      ],
      "metadata": {
        "id": "ANm-lIbDiijF"
      }
    },
    {
      "cell_type": "code",
      "source": [
        "ticketcost=10\n",
        "fixedattendees=20\n",
        "fixedcost=200\n",
        "print('Ad$ Profit')\n",
        "for i in range(0,201,25):\n",
        "  attendees=2*round((i**(1/2)))+fixedattendees\n",
        "  profit = ticketcost*(attendees)-i-fixedcost\n",
        "  print(i ,' ', profit)"
      ],
      "metadata": {
        "colab": {
          "base_uri": "https://localhost:8080/"
        },
        "id": "AKmLktnLEzpr",
        "outputId": "0f28c2f6-d4b9-4c1c-8148-8a7285649c34"
      },
      "execution_count": null,
      "outputs": [
        {
          "output_type": "stream",
          "name": "stdout",
          "text": [
            "Ad$ Profit\n",
            "0   0\n",
            "25   75\n",
            "50   90\n",
            "75   105\n",
            "100   100\n",
            "125   95\n",
            "150   90\n",
            "175   85\n",
            "200   80\n"
          ]
        }
      ]
    },
    {
      "cell_type": "markdown",
      "source": [
        "Months to Numbers Dictionary"
      ],
      "metadata": {
        "id": "qFPZyVrVic8R"
      }
    },
    {
      "cell_type": "code",
      "source": [
        "months={}\n",
        "\n",
        "names = ['Jan','Feb','Mar','Apr','May','Jun','Jul','Aug','Sep','Oct','Nov','Dec']\n",
        "numbers = [1,2,3,4,5,6,7,8,9,10,11,12]\n",
        "\n",
        "for idx in range(len(numbers)):\n",
        "  months[numbers[idx]]=names[idx]\n",
        "months\n",
        "\n"
      ],
      "metadata": {
        "id": "ag7ncNrq47d9",
        "colab": {
          "base_uri": "https://localhost:8080/"
        },
        "outputId": "62bacb80-8e27-4526-b93a-ce227cc230c5"
      },
      "execution_count": null,
      "outputs": [
        {
          "output_type": "execute_result",
          "data": {
            "text/plain": [
              "{1: 'Jan',\n",
              " 2: 'Feb',\n",
              " 3: 'Mar',\n",
              " 4: 'Apr',\n",
              " 5: 'May',\n",
              " 6: 'Jun',\n",
              " 7: 'Jul',\n",
              " 8: 'Aug',\n",
              " 9: 'Sep',\n",
              " 10: 'Oct',\n",
              " 11: 'Nov',\n",
              " 12: 'Dec'}"
            ]
          },
          "metadata": {},
          "execution_count": 21
        }
      ]
    },
    {
      "cell_type": "markdown",
      "source": [
        "Fee Calculation and Display Functions"
      ],
      "metadata": {
        "id": "nIlYUrttiYZN"
      }
    },
    {
      "cell_type": "code",
      "source": [
        "def calcFee(hours):\n",
        "  charge = 5+(2.5*hour)\n",
        "  return charge\n",
        "\n",
        "hour = float(input('How many hours will you be parked?: '))\n",
        "print('Parking fee ($): ', calcFee(hour))"
      ],
      "metadata": {
        "colab": {
          "base_uri": "https://localhost:8080/"
        },
        "id": "J_qr-ROX9cwV",
        "outputId": "78ccb50f-a3bf-46ca-f505-c6d85f400022"
      },
      "execution_count": null,
      "outputs": [
        {
          "output_type": "stream",
          "name": "stdout",
          "text": [
            "How many hours will you be parked?: 4.5555\n",
            "Parking fee ($):  16.38875\n"
          ]
        }
      ]
    },
    {
      "cell_type": "code",
      "source": [
        "def calcFee(hours,decimals=2):\n",
        "  fee = 5 + hour*2.5\n",
        "  fee = round(fee,decimals)\n",
        "  return fee\n",
        "def displayFee(fee):\n",
        "  print('Parking fee ($): ', fee)\n",
        "\n",
        "if __name__ == '__main__':\n",
        "  hour = float(input('How many hours will you be parked?: '))\n",
        "  displayFee(calcFee(hour))"
      ],
      "metadata": {
        "colab": {
          "base_uri": "https://localhost:8080/"
        },
        "outputId": "b5887abe-0a39-4743-aa3b-4b84e45656d7",
        "id": "3ssfjuQ3CETl"
      },
      "execution_count": null,
      "outputs": [
        {
          "output_type": "stream",
          "name": "stdout",
          "text": [
            "How many hours will you be parked?: 4\n",
            "Parking fee ($):  15.0\n"
          ]
        }
      ]
    },
    {
      "cell_type": "markdown",
      "source": [
        "Reverse Function"
      ],
      "metadata": {
        "id": "83B2WJQYi8p6"
      }
    },
    {
      "cell_type": "code",
      "source": [
        "def reverse_string(s):\n",
        "    if len(s) <= 1:\n",
        "        return s\n",
        "    else:\n",
        "      return reverse_string(s[1:]) + s[0]\n",
        "\n",
        "input_string = input('Input a String: ')\n",
        "reversed_string = reverse_string(input_string)\n",
        "print(\"Reversed String:\", reversed_string)\n"
      ],
      "metadata": {
        "colab": {
          "base_uri": "https://localhost:8080/"
        },
        "id": "-oAcSCVTHX-o",
        "outputId": "4f70b701-0144-4a03-c398-96aed196d1cc"
      },
      "execution_count": 1,
      "outputs": [
        {
          "output_type": "stream",
          "name": "stdout",
          "text": [
            "Input a String: BTE320\n",
            "Reversed String: 023ETB\n"
          ]
        }
      ]
    },
    {
      "cell_type": "markdown",
      "source": [
        "Student Class"
      ],
      "metadata": {
        "id": "Ym1hW7-sjGIQ"
      }
    },
    {
      "cell_type": "code",
      "source": [
        "class Student:\n",
        "  def __init__(self, name, number, courses):\n",
        "    self.name = name\n",
        "    self.number = number\n",
        "    self.courses = []\n",
        "  def set_name(self, newName):\n",
        "    self.name = newName\n",
        "  def get_name(self):\n",
        "    return self.name\n",
        "  def __repr__(self):\n",
        "    return f'{self.name} {self.number}'\n",
        "  def enroll(self, course):\n",
        "    if course not in self.courses:\n",
        "      self.courses.append(course)\n",
        "      return f'Enrolled in {course}'\n",
        "    else:\n",
        "      print('Already Enrolled')\n",
        "\n",
        "  def get_courses(self):\n",
        "    return self.courses"
      ],
      "metadata": {
        "id": "4FOTzy3iwwhf"
      },
      "execution_count": null,
      "outputs": []
    }
  ]
}